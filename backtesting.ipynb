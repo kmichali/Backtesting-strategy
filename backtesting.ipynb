{
 "cells": [
  {
   "cell_type": "markdown",
   "metadata": {},
   "source": [
    "# Backtesting on Apple daily trading data\n",
    "## Author: Jianliang Liam Gao\n",
    "\n",
    "\n",
    "## This notebook contains the following steps:\n",
    "### 1. Upload the data (provided with alongside the notebook)\n",
    "### 2. Calculate fast and slow moving averages\n",
    "### 3.  Apply moving average crossover strategy\n",
    "### 4. Calculate daily returns\n",
    "### 5. Plot moving averages and crossover points alongside daily returns\n"
   ]
  },
  {
   "cell_type": "markdown",
   "metadata": {},
   "source": [
    "## Download Apple daily trading data (needed in a new Colab environment)"
   ]
  },
  {
   "cell_type": "code",
   "execution_count": null,
   "metadata": {},
   "outputs": [],
   "source": [
    "%%bash\n",
    "[ -e  ./Apple_Stock_price.csv ] && echo \"data already exists\" || { wget https://kmichali.github.io/Apple_Stock_price.csv; } "
   ]
  },
  {
   "cell_type": "markdown",
   "metadata": {},
   "source": [
    "## Load required Python packages"
   ]
  },
  {
   "cell_type": "code",
   "execution_count": null,
   "metadata": {},
   "outputs": [],
   "source": [
    "import numpy as np\n",
    "import pandas as pd\n",
    "import csv\n",
    "import matplotlib.pyplot as plt"
   ]
  },
  {
   "cell_type": "markdown",
   "metadata": {},
   "source": [
    "## 1. Load Apple daily trading data"
   ]
  },
  {
   "cell_type": "code",
   "execution_count": null,
   "metadata": {},
   "outputs": [],
   "source": [
    "apple_trading_data = pd.read_csv(\"./Apple_Stock_price.csv\", index_col=[0])"
   ]
  },
  {
   "cell_type": "markdown",
   "metadata": {},
   "source": [
    "### Check the Adjusted close prices column"
   ]
  },
  {
   "cell_type": "code",
   "execution_count": null,
   "metadata": {},
   "outputs": [],
   "source": [
    "apple_trading_data[\"AAPL.Adjusted\"]"
   ]
  },
  {
   "cell_type": "markdown",
   "metadata": {},
   "source": [
    "## 2. Calculate moving averages on Adjusted close price"
   ]
  },
  {
   "cell_type": "markdown",
   "metadata": {},
   "source": [
    "### Define a function for computing moving averages"
   ]
  },
  {
   "cell_type": "code",
   "execution_count": null,
   "metadata": {},
   "outputs": [],
   "source": [
    "def moving_avg(ts, window_size):\n",
    "    '''\n",
    "    calculate moving averages based on data and window size\n",
    "    '''\n",
    "    \n",
    "    data_length = len(ts)\n",
    "    MA = np.empty(data_length)\n",
    "    MA[:] = np.nan\n",
    "    for i in range(window_size-1, data_length):\n",
    "        MA[i] = sum(ts[i-window_size+1:i+1])/window_size\n",
    "        \n",
    "    return(MA)"
   ]
  },
  {
   "cell_type": "markdown",
   "metadata": {},
   "source": [
    "### Calculate fast moving average with typical window size at 50"
   ]
  },
  {
   "cell_type": "code",
   "execution_count": null,
   "metadata": {},
   "outputs": [],
   "source": [
    "fast_MA = moving_avg(apple_trading_data[\"AAPL.Adjusted\"], 50)"
   ]
  },
  {
   "cell_type": "markdown",
   "metadata": {},
   "source": [
    "### Calculate slow moving average with typical window size at 200"
   ]
  },
  {
   "cell_type": "code",
   "execution_count": null,
   "metadata": {},
   "outputs": [],
   "source": [
    "slow_MA = moving_avg(apple_trading_data[\"AAPL.Adjusted\"], 200)"
   ]
  },
  {
   "cell_type": "markdown",
   "metadata": {},
   "source": [
    "## 3. Implement buy/sell signals using moving average crossover strategy"
   ]
  },
  {
   "cell_type": "markdown",
   "metadata": {},
   "source": [
    "### Add Signal column"
   ]
  },
  {
   "cell_type": "code",
   "execution_count": null,
   "metadata": {},
   "outputs": [],
   "source": [
    "apple_trading_data[\"signal\"] = np.sign(fast_MA - slow_MA)"
   ]
  },
  {
   "cell_type": "markdown",
   "metadata": {},
   "source": [
    "### Identify crossovers"
   ]
  },
  {
   "cell_type": "code",
   "execution_count": null,
   "metadata": {},
   "outputs": [],
   "source": [
    "# ignore the first 200 NaN values\n",
    "cross_over = np.where(np.diff(np.sign(apple_trading_data[\"signal\"])))[0][199:]"
   ]
  },
  {
   "cell_type": "markdown",
   "metadata": {},
   "source": [
    "### Store crossover points"
   ]
  },
  {
   "cell_type": "code",
   "execution_count": null,
   "metadata": {},
   "outputs": [],
   "source": [
    "buy=[]\n",
    "sell=[]\n",
    "for i in cross_over:\n",
    "    if apple_trading_data[\"signal\"][i] == -1:\n",
    "        buy.append(i)\n",
    "    if apple_trading_data[\"signal\"][i] == 1:\n",
    "        sell.append(i)\n"
   ]
  },
  {
   "cell_type": "markdown",
   "metadata": {},
   "source": [
    "## 4. Calculate daily returns\n",
    "### Add Lagged price column that is based on Adjusted price"
   ]
  },
  {
   "cell_type": "code",
   "execution_count": null,
   "metadata": {},
   "outputs": [],
   "source": [
    "apple_trading_data[\"lagged_price\"] = apple_trading_data[\"AAPL.Adjusted\"].shift(1)"
   ]
  },
  {
   "cell_type": "markdown",
   "metadata": {},
   "source": [
    "### Equation for calculating daily returns\n",
    "## $ \\frac{P_t}{P_{t-1}} -1 $"
   ]
  },
  {
   "cell_type": "markdown",
   "metadata": {},
   "source": [
    "### Calculate daily returns column"
   ]
  },
  {
   "cell_type": "code",
   "execution_count": null,
   "metadata": {},
   "outputs": [],
   "source": [
    "apple_trading_data[\"dailyReturns\"] = apple_trading_data[\"AAPL.Adjusted\"] / apple_trading_data[\"lagged_price\"] - 1"
   ]
  },
  {
   "cell_type": "markdown",
   "metadata": {},
   "source": [
    "## 5. Plot moving average lines and daily returns"
   ]
  },
  {
   "cell_type": "code",
   "execution_count": null,
   "metadata": {},
   "outputs": [],
   "source": [
    "fig1 = plt.figure(figsize=(16, 12))\n",
    "ax1 = fig1.gca()\n",
    "ax1.plot(apple_trading_data[\"Date\"], apple_trading_data[\"AAPL.Adjusted\"],  label = \"Closed Price\")\n",
    "ax1.plot(apple_trading_data[\"Date\"], fast_MA, 'r', label = \"Fast Moving Average\")\n",
    "ax1.plot(apple_trading_data[\"Date\"], slow_MA, 'g', label = \"Slow Moving Average\")\n",
    "for i in buy:\n",
    "    ax1.annotate('buy', xy=(i, fast_MA[i]), xytext=(i, fast_MA[i]+10),\n",
    "            arrowprops=dict(facecolor='red', shrink=0.05))\n",
    "for i in sell:\n",
    "    ax1.annotate('sell', xy=(i, fast_MA[i]), xytext=(i, fast_MA[i]+10),\n",
    "            arrowprops=dict(facecolor='green', shrink=0.05))    \n",
    "ax1.legend()\n",
    "ax1.xaxis.set_major_locator(plt.MaxNLocator(12))\n",
    "plt.show()"
   ]
  },
  {
   "cell_type": "code",
   "execution_count": null,
   "metadata": {},
   "outputs": [],
   "source": []
  }
 ],
 "metadata": {
  "kernelspec": {
   "display_name": "Python 3",
   "language": "python",
   "name": "python3"
  },
  "language_info": {
   "codemirror_mode": {
    "name": "ipython",
    "version": 3
   },
   "file_extension": ".py",
   "mimetype": "text/x-python",
   "name": "python",
   "nbconvert_exporter": "python",
   "pygments_lexer": "ipython3",
   "version": "3.7.6"
  }
 },
 "nbformat": 4,
 "nbformat_minor": 4
}
